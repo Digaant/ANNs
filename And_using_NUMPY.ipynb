{
  "nbformat": 4,
  "nbformat_minor": 0,
  "metadata": {
    "colab": {
      "name": "And_using_NUMPY.ipynb",
      "version": "0.3.2",
      "provenance": [],
      "include_colab_link": true
    },
    "kernelspec": {
      "name": "python3",
      "display_name": "Python 3"
    },
    "accelerator": "GPU"
  },
  "cells": [
    {
      "cell_type": "markdown",
      "metadata": {
        "id": "view-in-github",
        "colab_type": "text"
      },
      "source": [
        "[View in Colaboratory](https://colab.research.google.com/github/Digaant/First-ANN/blob/master/And_using_NUMPY.ipynb)"
      ]
    },
    {
      "metadata": {
        "id": "tYZ9sFh7PNrp",
        "colab_type": "code",
        "colab": {
          "base_uri": "https://localhost:8080/",
          "height": 84
        },
        "outputId": "958b8440-83c9-4454-83b3-3e27063034fb"
      },
      "cell_type": "code",
      "source": [
        "import numpy as np\n",
        "class Perceptron:\n",
        "  def __init__(self, input_length, weights = None):\n",
        "    if weights is None :\n",
        "      self.weights = np.ones(input_length) * 0.5\n",
        "    else :\n",
        "      self.weights = weights\n",
        "  \n",
        "  @staticmethod\n",
        "  def unit_step_func(x):\n",
        "    if x > 0.5:\n",
        "      return 1\n",
        "    \n",
        "    return 0\n",
        "  \n",
        "  def __call__(self, in_data):\n",
        "    weighted_input = self.weights * in_data\n",
        "    weighted_sum = weighted_input.sum()\n",
        "    \n",
        "    return Perceptron.unit_step_func(weighted_sum)\n",
        "\n",
        "  \n",
        "p = Perceptron(2,np.array([0.5, 0.5]))\n",
        "for x in [np.array([0, 0]), np.array([0, 1]), \n",
        "          np.array([1, 0]), np.array([1, 1])]:\n",
        "    y = p(np.array(x))\n",
        "    print(x, y)"
      ],
      "execution_count": 8,
      "outputs": [
        {
          "output_type": "stream",
          "text": [
            "[0 0] 0\n",
            "[0 1] 0\n",
            "[1 0] 0\n",
            "[1 1] 1\n"
          ],
          "name": "stdout"
        }
      ]
    },
    {
      "metadata": {
        "id": "dBIiFd55TaS4",
        "colab_type": "code",
        "colab": {}
      },
      "cell_type": "code",
      "source": [
        ""
      ],
      "execution_count": 0,
      "outputs": []
    }
  ]
}