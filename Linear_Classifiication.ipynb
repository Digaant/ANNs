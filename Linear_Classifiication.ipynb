{
  "nbformat": 4,
  "nbformat_minor": 0,
  "metadata": {
    "colab": {
      "name": "Linear Classifiication.ipynb",
      "version": "0.3.2",
      "provenance": [],
      "include_colab_link": true
    },
    "kernelspec": {
      "name": "python3",
      "display_name": "Python 3"
    },
    "accelerator": "GPU"
  },
  "cells": [
    {
      "cell_type": "markdown",
      "metadata": {
        "id": "view-in-github",
        "colab_type": "text"
      },
      "source": [
        "[View in Colaboratory](https://colab.research.google.com/github/Digaant/ANNs/blob/master/Linear_Classifiication.ipynb)"
      ]
    },
    {
      "metadata": {
        "id": "QAJAPLaqYVt2",
        "colab_type": "code",
        "colab": {
          "base_uri": "https://localhost:8080/",
          "height": 34
        },
        "outputId": "a05826f7-2ec9-4969-8443-806b9a2d0c0a"
      },
      "cell_type": "code",
      "source": [
        "import numpy as np\n",
        "from collections import Counter\n",
        "class Perceptron:\n",
        "    \n",
        "    def __init__(self, input_length, weights=None):\n",
        "        if weights==None:\n",
        "            self.weights = np.random.random((input_length)) * 2 - 1\n",
        "        self.learning_rate = 0.1\n",
        "        \n",
        "    @staticmethod\n",
        "    def unit_step_function(x):\n",
        "        if x < 0:\n",
        "            return 0\n",
        "        return 1\n",
        "        \n",
        "    def __call__(self, in_data):\n",
        "        weighted_input = self.weights * in_data\n",
        "        weighted_sum = weighted_input.sum()\n",
        "        return Perceptron.unit_step_function(weighted_sum)\n",
        "    \n",
        "    def adjust(self, \n",
        "               target_result, \n",
        "               calculated_result,\n",
        "               in_data):\n",
        "        error = target_result - calculated_result\n",
        "        for i in range(len(in_data)):\n",
        "            correction = error * in_data[i] *self.learning_rate\n",
        "            self.weights[i] += correction \n",
        "     \n",
        "\n",
        "def above_line(point, line_func):\n",
        "  x, y = point\n",
        "  if y > line_func(x):\n",
        "    return 1\n",
        "  else:\n",
        "    return 0\n",
        "  \n",
        "  \n",
        "  \n",
        "points = np.random.randint(1, 100, (100, 2))\n",
        "p = Perceptron(2)\n",
        "def lin1(x):\n",
        "    return  x + 4\n",
        "  \n",
        "for i in range(100):\n",
        "  for point in points:\n",
        "    p.adjust(above_line(point, lin1), \n",
        "             p(point), \n",
        "             point)\n",
        "evaluation = Counter()\n",
        "for point in points:\n",
        "    if p(point) == above_line(point, lin1):\n",
        "        evaluation[\"correct\"] += 1\n",
        "    else:\n",
        "        evaluation[\"wrong\"] += 1\n",
        "print(evaluation.most_common())\n",
        "  \n",
        "\n",
        "  \n",
        "  \n",
        "\n",
        "    \n",
        "  "
      ],
      "execution_count": 2,
      "outputs": [
        {
          "output_type": "stream",
          "text": [
            "[('correct', 100)]\n"
          ],
          "name": "stdout"
        }
      ]
    },
    {
      "metadata": {
        "id": "wVbgjBLjSRuV",
        "colab_type": "code",
        "colab": {}
      },
      "cell_type": "code",
      "source": [
        ""
      ],
      "execution_count": 0,
      "outputs": []
    }
  ]
}